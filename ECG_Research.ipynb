{
  "nbformat": 4,
  "nbformat_minor": 0,
  "metadata": {
    "colab": {
      "provenance": []
    },
    "kernelspec": {
      "name": "python3",
      "display_name": "Python 3"
    },
    "language_info": {
      "name": "python"
    }
  },
  "cells": [
    {
      "cell_type": "code",
      "source": [
        "pip install py-ecg-detectors"
      ],
      "metadata": {
        "colab": {
          "base_uri": "https://localhost:8080/"
        },
        "id": "FIHeRDmy0rOF",
        "outputId": "1dbd6d0a-79df-4233-d96b-9ac4e039379e"
      },
      "execution_count": null,
      "outputs": [
        {
          "output_type": "stream",
          "name": "stdout",
          "text": [
            "Requirement already satisfied: py-ecg-detectors in /usr/local/lib/python3.10/dist-packages (1.3.4)\n",
            "Requirement already satisfied: gatspy in /usr/local/lib/python3.10/dist-packages (from py-ecg-detectors) (0.3)\n",
            "Requirement already satisfied: numpy in /usr/local/lib/python3.10/dist-packages (from py-ecg-detectors) (1.23.5)\n",
            "Requirement already satisfied: pywavelets in /usr/local/lib/python3.10/dist-packages (from py-ecg-detectors) (1.4.1)\n",
            "Requirement already satisfied: scipy in /usr/local/lib/python3.10/dist-packages (from py-ecg-detectors) (1.11.3)\n"
          ]
        }
      ]
    },
    {
      "cell_type": "code",
      "source": [
        "pip install keras.utils.np_utils"
      ],
      "metadata": {
        "colab": {
          "base_uri": "https://localhost:8080/"
        },
        "id": "jUDDMC3IX1FF",
        "outputId": "ee662bd1-010a-432b-e02f-5d10866bd983"
      },
      "execution_count": null,
      "outputs": [
        {
          "output_type": "stream",
          "name": "stdout",
          "text": [
            "\u001b[31mERROR: Could not find a version that satisfies the requirement keras.utils.np_utils (from versions: none)\u001b[0m\u001b[31m\n",
            "\u001b[0m\u001b[31mERROR: No matching distribution found for keras.utils.np_utils\u001b[0m\u001b[31m\n",
            "\u001b[0m"
          ]
        }
      ]
    },
    {
      "cell_type": "code",
      "execution_count": null,
      "metadata": {
        "id": "lOnfliVpqy0h",
        "outputId": "c6ac6bb7-515d-4c5c-f069-d8e58d1f2243",
        "colab": {
          "base_uri": "https://localhost:8080/",
          "height": 385
        }
      },
      "outputs": [
        {
          "output_type": "error",
          "ename": "ModuleNotFoundError",
          "evalue": "ignored",
          "traceback": [
            "\u001b[0;31m---------------------------------------------------------------------------\u001b[0m",
            "\u001b[0;31mModuleNotFoundError\u001b[0m                       Traceback (most recent call last)",
            "\u001b[0;32m<ipython-input-2-7a307ef9ea5f>\u001b[0m in \u001b[0;36m<cell line: 9>\u001b[0;34m()\u001b[0m\n\u001b[1;32m      7\u001b[0m \u001b[0;32mfrom\u001b[0m \u001b[0msklearn\u001b[0m\u001b[0;34m.\u001b[0m\u001b[0mmetrics\u001b[0m \u001b[0;32mimport\u001b[0m \u001b[0mf1_score\u001b[0m\u001b[0;34m\u001b[0m\u001b[0;34m\u001b[0m\u001b[0m\n\u001b[1;32m      8\u001b[0m \u001b[0;32mfrom\u001b[0m \u001b[0msklearn\u001b[0m\u001b[0;34m.\u001b[0m\u001b[0mmetrics\u001b[0m \u001b[0;32mimport\u001b[0m \u001b[0mconfusion_matrix\u001b[0m\u001b[0;34m\u001b[0m\u001b[0;34m\u001b[0m\u001b[0m\n\u001b[0;32m----> 9\u001b[0;31m \u001b[0;32mfrom\u001b[0m \u001b[0mkeras\u001b[0m\u001b[0;34m.\u001b[0m\u001b[0mutils\u001b[0m\u001b[0;34m.\u001b[0m\u001b[0mnp_utils\u001b[0m \u001b[0;32mimport\u001b[0m \u001b[0mto_categorical\u001b[0m\u001b[0;34m\u001b[0m\u001b[0;34m\u001b[0m\u001b[0m\n\u001b[0m\u001b[1;32m     10\u001b[0m \u001b[0;32mfrom\u001b[0m \u001b[0msklearn\u001b[0m\u001b[0;34m.\u001b[0m\u001b[0mutils\u001b[0m \u001b[0;32mimport\u001b[0m \u001b[0mclass_weight\u001b[0m\u001b[0;34m\u001b[0m\u001b[0;34m\u001b[0m\u001b[0m\n\u001b[1;32m     11\u001b[0m \u001b[0;32mfrom\u001b[0m \u001b[0mscipy\u001b[0m\u001b[0;34m.\u001b[0m\u001b[0msignal\u001b[0m \u001b[0;32mimport\u001b[0m \u001b[0mmedfilt\u001b[0m\u001b[0;34m\u001b[0m\u001b[0;34m\u001b[0m\u001b[0m\n",
            "\u001b[0;31mModuleNotFoundError\u001b[0m: No module named 'keras.utils.np_utils'",
            "",
            "\u001b[0;31m---------------------------------------------------------------------------\u001b[0;32m\nNOTE: If your import is failing due to a missing package, you can\nmanually install dependencies using either !pip or !apt.\n\nTo view examples of installing some common dependencies, click the\n\"Open Examples\" button below.\n\u001b[0;31m---------------------------------------------------------------------------\u001b[0m\n"
          ],
          "errorDetails": {
            "actions": [
              {
                "action": "open_url",
                "actionText": "Open Examples",
                "url": "/notebooks/snippets/importing_libraries.ipynb"
              }
            ]
          }
        }
      ],
      "source": [
        "import numpy as np\n",
        "import pandas as pd\n",
        "import seaborn as sns\n",
        "import matplotlib.pyplot as plt\n",
        "from sklearn.metrics import classification_report\n",
        "from sklearn.model_selection import train_test_split\n",
        "from sklearn.metrics import f1_score\n",
        "from sklearn.metrics import confusion_matrix\n",
        "from keras.utils.np_utils import to_categorical\n",
        "from sklearn.utils import class_weight\n",
        "from scipy.signal import medfilt\n",
        "from ecgdetectors import Detectors\n",
        "from scipy import signal\n",
        "from scipy.signal import butter, iirnotch, lfilter, filtfilt\n",
        "import pywt\n",
        "from pywt import wavedec\n",
        "import warnings\n",
        "from skimage.restoration import denoise_wavelet\n",
        "warnings.filterwarnings('ignore')"
      ]
    },
    {
      "cell_type": "code",
      "source": [
        "ecg_file = pd.read_csv('ptbdb_normal.csv', header = None)"
      ],
      "metadata": {
        "id": "i5wSIHHyrsv6"
      },
      "execution_count": null,
      "outputs": []
    },
    {
      "cell_type": "code",
      "source": [
        "c = ecg_file.groupby(187, group_keys = False).apply(lambda ecg_file : ecg_file.sample(1))"
      ],
      "metadata": {
        "id": "ASesUOVLsMjk"
      },
      "execution_count": null,
      "outputs": []
    },
    {
      "cell_type": "code",
      "source": [
        "c"
      ],
      "metadata": {
        "id": "xP_AV8nHsYVq"
      },
      "execution_count": null,
      "outputs": []
    },
    {
      "cell_type": "code",
      "source": [
        " plt.plot(c.iloc[0,:186])"
      ],
      "metadata": {
        "id": "aEGsn8FesdMC"
      },
      "execution_count": null,
      "outputs": []
    },
    {
      "cell_type": "code",
      "source": [
        "def denoise_signal(X, dwt_transform, dlevels, cutoff_low, cutoff_high):\n",
        "    coeffs = wavedec(X, dwt_transform, level=dlevels)   # wavelet transform 'bior4.4'\n",
        "    # scale 0 to cutoff_low\n",
        "    for ca in range(0,cutoff_low):\n",
        "        coeffs[ca]=np.multiply(coeffs[ca],[0.0])\n",
        "    # scale cutoff_high to end\n",
        "    for ca in range(cutoff_high, len(coeffs)):\n",
        "        coeffs[ca]=np.multiply(coeffs[ca],[0.0])\n",
        "    Y = pywt.waverec(coeffs, dwt_transform) # inverse wavelet transform\n",
        "    return Y"
      ],
      "metadata": {
        "id": "7bE23zcVtHeY"
      },
      "execution_count": null,
      "outputs": []
    },
    {
      "cell_type": "code",
      "source": [
        "x_noisy = c.iloc[0,:186] + 0.1 * np.random.randn(c.iloc[0,:186].size)\n",
        "plt.plot(x_noisy)"
      ],
      "metadata": {
        "id": "v-gIlXnBwx1q"
      },
      "execution_count": null,
      "outputs": []
    },
    {
      "cell_type": "code",
      "source": [
        "x_denoise = denoise_wavelet(x_noisy, method='BayesShrink', mode='soft', wavelet_levels=3, wavelet='sym8', rescale_sigma='True')\n",
        "plt.plot(x_denoise)"
      ],
      "metadata": {
        "id": "Fp_KpVcFxcH3"
      },
      "execution_count": null,
      "outputs": []
    },
    {
      "cell_type": "code",
      "source": [
        "signal1 = denoise_wavelet(c.iloc[0,:186], method='BayesShrink', mode='soft', wavelet_levels=3, wavelet='sym8', rescale_sigma='True')\n",
        "plt.plot(signal1)"
      ],
      "metadata": {
        "id": "aXZuB5HNuGS6"
      },
      "execution_count": null,
      "outputs": []
    },
    {
      "cell_type": "code",
      "source": [
        "def get_median_filter_width(sampling_rate, duration):\n",
        "    res = int( sampling_rate*duration )\n",
        "    res += ((res%2) - 1) # needs to be an odd number\n",
        "    return res\n",
        "# baseline fitting by filtering\n",
        "# === Define Filtering Params for Baseline fitting Leads======================\n",
        "ms_flt_array = [0.02,0.06]    #<-- length of baseline fitting filters (in seconds)\n",
        "mfa = np.zeros(len(ms_flt_array), dtype='int')\n",
        "for i in range(0, len(ms_flt_array)):\n",
        "    mfa[i] = get_median_filter_width(500,ms_flt_array[i])\n",
        "\n",
        "def filter_signal(X):\n",
        "    global mfa\n",
        "    X0 = X  #read orignal signal\n",
        "    for mi in range(0,len(mfa)):\n",
        "        X0 = medfilt(X0,mfa[mi]) # apply median filter one by one on top of each other\n",
        "    X0 = np.subtract(X,X0)  # finally subtract from orignal signal\n",
        "    return X0"
      ],
      "metadata": {
        "id": "fdX5kbmYtBx3"
      },
      "execution_count": null,
      "outputs": []
    },
    {
      "cell_type": "code",
      "source": [
        "signal_flt = filter_signal(signal1)\n",
        "plt.plot(signal_flt)"
      ],
      "metadata": {
        "id": "z7VzsggPuIUx"
      },
      "execution_count": null,
      "outputs": []
    },
    {
      "cell_type": "code",
      "source": [
        "# Sampling frequency (replace with your actual value)\n",
        "fs = 500.0\n",
        "\n",
        "# Powerline frequency (50 Hz or 60 Hz)\n",
        "powerline_freq = 50.0  # Change to 60.0 if necessary\n",
        "\n",
        "# Design a notch filter\n",
        "f0 = powerline_freq\n",
        "Q = 30.0\n",
        "b, a = signal.iirnotch(f0, Q, fs)\n",
        "\n",
        "# Apply the notch filter\n",
        "filtered_ecg_signal = signal.lfilter(b, a, signal_flt)"
      ],
      "metadata": {
        "id": "g_7KLcNddFyb"
      },
      "execution_count": null,
      "outputs": []
    },
    {
      "cell_type": "code",
      "source": [
        "# Time vector\n",
        "t = np.arange(0, len(signal_flt)) / fs\n",
        "\n",
        "# Plot the original and filtered signals\n",
        "plt.figure(figsize=(12, 6))\n",
        "plt.plot(t, signal_flt, label=\"Original ECG Signal\")\n",
        "plt.plot(t, filtered_ecg_signal, label=\"Filtered ECG Signal\")\n",
        "plt.xlabel(\"Time (s)\")\n",
        "plt.ylabel(\"Amplitude\")\n",
        "plt.title(\"ECG Signal with Powerline Interference Removal\")\n",
        "plt.legend()\n",
        "plt.grid()\n",
        "plt.show()\n"
      ],
      "metadata": {
        "id": "1BTDcNR9dLMj"
      },
      "execution_count": null,
      "outputs": []
    },
    {
      "cell_type": "code",
      "source": [
        "def remove_emg_noise(ecg_signal, fs):\n",
        "    # Design a band-pass filter to focus on ECG frequencies\n",
        "    lowcut = 5  # Lower cutoff frequency for ECG\n",
        "    highcut = 150.0  # Higher cutoff frequency for ECG\n",
        "    b, a = signal.butter(4, [lowcut, highcut], btype='band', fs=fs)\n",
        "\n",
        "    # Apply the band-pass filter to remove EMG noise\n",
        "    filtered_ecg_signal = signal.lfilter(b, a, ecg_signal)\n",
        "\n",
        "    return filtered_ecg_signal\n"
      ],
      "metadata": {
        "id": "VwM4grJifr_9"
      },
      "execution_count": null,
      "outputs": []
    },
    {
      "cell_type": "code",
      "source": [
        "plt.plot(signal_flt)"
      ],
      "metadata": {
        "id": "rGedRVUOgRbe"
      },
      "execution_count": null,
      "outputs": []
    },
    {
      "cell_type": "code",
      "source": [
        "emg_removed = remove_emg_noise(signal_flt, 500)\n",
        "plt.plot(emg_removed)"
      ],
      "metadata": {
        "id": "jPAv4Moqf8tY"
      },
      "execution_count": null,
      "outputs": []
    },
    {
      "cell_type": "code",
      "source": [
        "class Pan_tompkins:\n",
        "    \"\"\" Implementationof Pan Tompkins Algorithm.\n",
        "\n",
        "    Noise cancellation (bandpass filter) -> Derivative step -> Squaring and integration.\n",
        "\n",
        "    Params:\n",
        "        data (array) : ECG data\n",
        "        sampling rate (int)\n",
        "    returns:\n",
        "        Integrated signal (array) : This signal can be used to detect peaks\n",
        "\n",
        "\n",
        "    ----------------------------------------\n",
        "    HOW TO USE ?\n",
        "    Eg.\n",
        "\n",
        "    ECG_data = [4, 7, 80, 78, 9], sampling  =2000\n",
        "\n",
        "    call :\n",
        "       signal = Pan_tompkins(ECG_data, sampling).fit()\n",
        "\n",
        "    ----------------------------------------\n",
        "\n",
        "    \"\"\"\n",
        "    def __init__(self, data, sample_rate):\n",
        "\n",
        "        self.data = data\n",
        "        self.sample_rate = sample_rate\n",
        "\n",
        "\n",
        "    def fit(self, normalized_cut_offs=None, butter_filter_order=2, padlen=150, window_size=None):\n",
        "        ''' Fit the signal according to algorithm and returns integrated signal\n",
        "\n",
        "        '''\n",
        "        # 1.Noise cancellationusing bandpass filter\n",
        "        self.filtered_BandPass = self.band_pass_filter(normalized_cut_offs, butter_filter_order, padlen)\n",
        "\n",
        "        # 2.derivate filter to get slpor of the QRS\n",
        "        self.derviate_pass = self.derivative_filter()\n",
        "\n",
        "        # 3.Squaring to enhance dominant peaks in QRS\n",
        "        self.square_pass = self.squaring()\n",
        "\n",
        "        # 4.To get info about QRS complex\n",
        "        self.integrated_signal = self.moving_window_integration( window_size)\n",
        "\n",
        "        return self.integrated_signal\n",
        "\n",
        "\n",
        "    def band_pass_filter(self, normalized_cut_offs=None, butter_filter_order=2, padlen=150):\n",
        "        ''' Band pass filter for Pan tompkins algorithm\n",
        "            with a bandpass setting of 5 to 20 Hz\n",
        "\n",
        "            params:\n",
        "                normalized_cut_offs (list) : bandpass setting canbe changed here\n",
        "                bandpass filte rorder (int) : deffault 2\n",
        "                padlen (int) : padding length for data , default = 150\n",
        "                        scipy default value = 2 * max(len(a coeff, b coeff))\n",
        "\n",
        "            return:\n",
        "                filtered_BandPass (array)\n",
        "        '''\n",
        "\n",
        "        # Calculate nyquist sample rate and cutoffs\n",
        "        nyquist_sample_rate = self.sample_rate / 2\n",
        "\n",
        "        # calculate cutoffs\n",
        "        if normalized_cut_offs is None:\n",
        "            normalized_cut_offs = [5/nyquist_sample_rate, 15/nyquist_sample_rate]\n",
        "        else:\n",
        "            assert type(self.sample_rate ) is list, \"Cutoffs should be a list with [low, high] values\"\n",
        "\n",
        "        # butter coefficinets\n",
        "        b_coeff, a_coeff = butter(butter_filter_order, normalized_cut_offs, btype='bandpass')[:2]\n",
        "\n",
        "        # apply forward and backward filter\n",
        "        filtered_BandPass = filtfilt(b_coeff, a_coeff, self.data, padlen=padlen)\n",
        "\n",
        "        return filtered_BandPass\n",
        "\n",
        "\n",
        "    def derivative_filter(self):\n",
        "        ''' Derivative filter\n",
        "\n",
        "        params:\n",
        "            filtered_BandPass (array) : outputof bandpass filter\n",
        "        return:\n",
        "            derivative_pass (array)\n",
        "        '''\n",
        "\n",
        "        # apply differentiation\n",
        "        derviate_pass= np.diff(self.band_pass_filter())\n",
        "\n",
        "        return derviate_pass\n",
        "\n",
        "\n",
        "    def squaring(self):\n",
        "        ''' squaring application on derivate filter output data\n",
        "\n",
        "        params:\n",
        "\n",
        "        return:\n",
        "            square_pass (array)\n",
        "        '''\n",
        "\n",
        "        # apply squaring\n",
        "        square_pass= self.derivative_filter() **2\n",
        "\n",
        "        return square_pass\n",
        "\n",
        "\n",
        "    def moving_window_integration(self, window_size=None):\n",
        "        ''' Moving avergae filter\n",
        "\n",
        "        Params:\n",
        "            window_size (int) : no. of samples to average, if not provided : 0.08 * sample rate\n",
        "            sample_rate (int) : should be given if window_size is not given\n",
        "        return:\n",
        "            integrated_signal (array)\n",
        "        '''\n",
        "\n",
        "        if window_size is None:\n",
        "            assert self.sample_rate is not None, \"if window size is None, sampling rate should be given\"\n",
        "            window_size = int(0.08 * int(self.sample_rate))  # given in paper 150ms as a window size\n",
        "\n",
        "\n",
        "        # define integrated signal\n",
        "        integrated_signal = np.zeros_like(self.squaring())\n",
        "\n",
        "        # cumulative sum of signal\n",
        "        cumulative_sum = self.squaring().cumsum()\n",
        "\n",
        "        # estimationof area/ integral below the curve deifnes the data\n",
        "        integrated_signal[window_size:] = (cumulative_sum[window_size:] - cumulative_sum[:-window_size]) / window_size\n",
        "\n",
        "        integrated_signal[:window_size] = cumulative_sum[:window_size] / np.arange(1, window_size + 1)\n",
        "\n",
        "        return integrated_signal"
      ],
      "metadata": {
        "id": "oLtKUdQYqeEn"
      },
      "execution_count": null,
      "outputs": []
    },
    {
      "cell_type": "code",
      "source": [
        "signal_pt = Pan_tompkins(signal_flt, 500).fit()"
      ],
      "metadata": {
        "id": "O_n8CHBzqkTv"
      },
      "execution_count": null,
      "outputs": []
    },
    {
      "cell_type": "code",
      "source": [
        "plt.plot(signal_flt)"
      ],
      "metadata": {
        "id": "bdIoTi_YE5JV"
      },
      "execution_count": null,
      "outputs": []
    },
    {
      "cell_type": "code",
      "source": [
        "plt.plot(signal_pt)\n",
        "# plt.plot(signal_flt)\n"
      ],
      "metadata": {
        "id": "DCg9EDHqrFQc"
      },
      "execution_count": null,
      "outputs": []
    }
  ]
}